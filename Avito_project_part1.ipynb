{
 "cells": [
  {
   "cell_type": "markdown",
   "id": "1baaf9e1-793a-4a3d-8705-13dec46aa9f7",
   "metadata": {},
   "source": [
    "<h1>Проект Курса</h1>"
   ]
  },
  {
   "cell_type": "markdown",
   "id": "8c08bb4f-885b-40e8-b1ac-3742212f7e6a",
   "metadata": {},
   "source": [
    "<h2>Подключение Библиотек</h2>"
   ]
  },
  {
   "cell_type": "code",
   "execution_count": 66,
   "id": "479eefd3-553c-4218-89aa-598a1be04747",
   "metadata": {},
   "outputs": [],
   "source": [
    "import pandas as pd\n",
    "import numpy as np\n",
    "import seaborn as sns\n",
    "import matplotlib as mpl\n",
    "import matplotlib.pyplot as plt\n",
    "from scipy.stats import poisson\n",
    "from datetime import datetime\n",
    "\n",
    "%matplotlib inline\n",
    "from math import ceil\n",
    "from ast import literal_eval\n",
    "from sqlalchemy import create_engine\n",
    "import missingno as msno"
   ]
  },
  {
   "cell_type": "markdown",
   "id": "060caaae-2458-4b7e-8db8-0799e77a67e4",
   "metadata": {},
   "source": [
    "<h2>Анализ, очистка и подготовка данных к работе</h2>"
   ]
  },
  {
   "cell_type": "markdown",
   "id": "c18de5e2-c715-4b35-ba4b-4aef0ddd11a3",
   "metadata": {},
   "source": [
    "<h3> Подключение и осмотр данных </h3>"
   ]
  },
  {
   "cell_type": "markdown",
   "id": "132594d5-bf5f-4547-ab68-2d78258c1024",
   "metadata": {},
   "source": [
    "* Подключение файлов"
   ]
  },
  {
   "cell_type": "code",
   "execution_count": 28,
   "id": "eb136d26-d789-4449-b5e9-b489984f29f2",
   "metadata": {},
   "outputs": [],
   "source": [
    "df1 = pd.read_csv('periods_test.csv', sep=',')\n",
    "df2 = pd.read_csv('test.csv', sep=',')"
   ]
  },
  {
   "cell_type": "markdown",
   "id": "9045eab2-2c10-44b8-b012-56512849dc77",
   "metadata": {},
   "source": [
    "* Осмотр файлов"
   ]
  },
  {
   "cell_type": "code",
   "execution_count": 29,
   "id": "e8abac6e-90b7-4489-9207-3adce0bb79fb",
   "metadata": {},
   "outputs": [
    {
     "data": {
      "text/html": [
       "<div>\n",
       "<style scoped>\n",
       "    .dataframe tbody tr th:only-of-type {\n",
       "        vertical-align: middle;\n",
       "    }\n",
       "\n",
       "    .dataframe tbody tr th {\n",
       "        vertical-align: top;\n",
       "    }\n",
       "\n",
       "    .dataframe thead th {\n",
       "        text-align: right;\n",
       "    }\n",
       "</style>\n",
       "<table border=\"1\" class=\"dataframe\">\n",
       "  <thead>\n",
       "    <tr style=\"text-align: right;\">\n",
       "      <th></th>\n",
       "      <th>item_id</th>\n",
       "      <th>activation_date</th>\n",
       "      <th>date_from</th>\n",
       "      <th>date_to</th>\n",
       "    </tr>\n",
       "  </thead>\n",
       "  <tbody>\n",
       "    <tr>\n",
       "      <th>0</th>\n",
       "      <td>f3a62a713278</td>\n",
       "      <td>2017-03-13</td>\n",
       "      <td>2017-04-12</td>\n",
       "      <td>2017-04-12</td>\n",
       "    </tr>\n",
       "    <tr>\n",
       "      <th>1</th>\n",
       "      <td>045ec5dabe07</td>\n",
       "      <td>2017-04-03</td>\n",
       "      <td>2017-04-12</td>\n",
       "      <td>2017-04-18</td>\n",
       "    </tr>\n",
       "    <tr>\n",
       "      <th>2</th>\n",
       "      <td>801d15e12e25</td>\n",
       "      <td>2017-04-17</td>\n",
       "      <td>2017-04-17</td>\n",
       "      <td>2017-04-18</td>\n",
       "    </tr>\n",
       "    <tr>\n",
       "      <th>3</th>\n",
       "      <td>0a981789d4af</td>\n",
       "      <td>2017-03-23</td>\n",
       "      <td>2017-04-12</td>\n",
       "      <td>2017-04-18</td>\n",
       "    </tr>\n",
       "    <tr>\n",
       "      <th>4</th>\n",
       "      <td>cab2ed403350</td>\n",
       "      <td>2017-03-28</td>\n",
       "      <td>2017-04-12</td>\n",
       "      <td>2017-04-18</td>\n",
       "    </tr>\n",
       "  </tbody>\n",
       "</table>\n",
       "</div>"
      ],
      "text/plain": [
       "        item_id activation_date   date_from     date_to\n",
       "0  f3a62a713278      2017-03-13  2017-04-12  2017-04-12\n",
       "1  045ec5dabe07      2017-04-03  2017-04-12  2017-04-18\n",
       "2  801d15e12e25      2017-04-17  2017-04-17  2017-04-18\n",
       "3  0a981789d4af      2017-03-23  2017-04-12  2017-04-18\n",
       "4  cab2ed403350      2017-03-28  2017-04-12  2017-04-18"
      ]
     },
     "execution_count": 29,
     "metadata": {},
     "output_type": "execute_result"
    }
   ],
   "source": [
    "df1.head(5)"
   ]
  },
  {
   "cell_type": "code",
   "execution_count": 30,
   "id": "812a594e-afc2-4643-8f30-0bb8fbcfb046",
   "metadata": {},
   "outputs": [
    {
     "data": {
      "text/html": [
       "<div>\n",
       "<style scoped>\n",
       "    .dataframe tbody tr th:only-of-type {\n",
       "        vertical-align: middle;\n",
       "    }\n",
       "\n",
       "    .dataframe tbody tr th {\n",
       "        vertical-align: top;\n",
       "    }\n",
       "\n",
       "    .dataframe thead th {\n",
       "        text-align: right;\n",
       "    }\n",
       "</style>\n",
       "<table border=\"1\" class=\"dataframe\">\n",
       "  <thead>\n",
       "    <tr style=\"text-align: right;\">\n",
       "      <th></th>\n",
       "      <th>item_id</th>\n",
       "      <th>user_id</th>\n",
       "      <th>region</th>\n",
       "      <th>city</th>\n",
       "      <th>parent_category_name</th>\n",
       "      <th>category_name</th>\n",
       "      <th>param_1</th>\n",
       "      <th>param_2</th>\n",
       "      <th>param_3</th>\n",
       "      <th>title</th>\n",
       "      <th>description</th>\n",
       "      <th>price</th>\n",
       "      <th>item_seq_number</th>\n",
       "      <th>activation_date</th>\n",
       "      <th>user_type</th>\n",
       "      <th>image</th>\n",
       "      <th>image_top_1</th>\n",
       "    </tr>\n",
       "  </thead>\n",
       "  <tbody>\n",
       "    <tr>\n",
       "      <th>0</th>\n",
       "      <td>6544e41a8817</td>\n",
       "      <td>dbe73ad6e4b5</td>\n",
       "      <td>Волгоградская область</td>\n",
       "      <td>Волгоград</td>\n",
       "      <td>Личные вещи</td>\n",
       "      <td>Детская одежда и обувь</td>\n",
       "      <td>Для мальчиков</td>\n",
       "      <td>Обувь</td>\n",
       "      <td>25</td>\n",
       "      <td>Отдам бесплатно</td>\n",
       "      <td>На ангарском</td>\n",
       "      <td>NaN</td>\n",
       "      <td>66</td>\n",
       "      <td>2017-04-18</td>\n",
       "      <td>Private</td>\n",
       "      <td>a8b57acb5ab304f9c331ac7a074219aed4d349d8aef386...</td>\n",
       "      <td>2020.0</td>\n",
       "    </tr>\n",
       "    <tr>\n",
       "      <th>1</th>\n",
       "      <td>65b9484d670f</td>\n",
       "      <td>2e11806abe57</td>\n",
       "      <td>Свердловская область</td>\n",
       "      <td>Нижняя Тура</td>\n",
       "      <td>Хобби и отдых</td>\n",
       "      <td>Велосипеды</td>\n",
       "      <td>Дорожные</td>\n",
       "      <td>NaN</td>\n",
       "      <td>NaN</td>\n",
       "      <td>Продам велосипед</td>\n",
       "      <td>Продам велосипед KAMA  F200,в нормальном состо...</td>\n",
       "      <td>3000.0</td>\n",
       "      <td>4</td>\n",
       "      <td>2017-04-16</td>\n",
       "      <td>Private</td>\n",
       "      <td>NaN</td>\n",
       "      <td>NaN</td>\n",
       "    </tr>\n",
       "    <tr>\n",
       "      <th>2</th>\n",
       "      <td>8bab230b2ecd</td>\n",
       "      <td>0b850bbebb10</td>\n",
       "      <td>Новосибирская область</td>\n",
       "      <td>Бердск</td>\n",
       "      <td>Бытовая электроника</td>\n",
       "      <td>Аудио и видео</td>\n",
       "      <td>Телевизоры и проекторы</td>\n",
       "      <td>NaN</td>\n",
       "      <td>NaN</td>\n",
       "      <td>BBK</td>\n",
       "      <td>Продам новый телевизор BBK  32 диагональ смарт...</td>\n",
       "      <td>15000.0</td>\n",
       "      <td>15</td>\n",
       "      <td>2017-04-17</td>\n",
       "      <td>Private</td>\n",
       "      <td>8c361112cb049745ef2d1b0ae73594fc5c107286b0c942...</td>\n",
       "      <td>2960.0</td>\n",
       "    </tr>\n",
       "    <tr>\n",
       "      <th>3</th>\n",
       "      <td>8e348601fefc</td>\n",
       "      <td>5f1d5c3ce0da</td>\n",
       "      <td>Саратовская область</td>\n",
       "      <td>Саратов</td>\n",
       "      <td>Для дома и дачи</td>\n",
       "      <td>Бытовая техника</td>\n",
       "      <td>Для кухни</td>\n",
       "      <td>Вытяжки</td>\n",
       "      <td>NaN</td>\n",
       "      <td>Вытяжка Jetair 60</td>\n",
       "      <td>Продам новую вытяжку в упаковке,с документами....</td>\n",
       "      <td>4500.0</td>\n",
       "      <td>70</td>\n",
       "      <td>2017-04-17</td>\n",
       "      <td>Private</td>\n",
       "      <td>NaN</td>\n",
       "      <td>NaN</td>\n",
       "    </tr>\n",
       "    <tr>\n",
       "      <th>4</th>\n",
       "      <td>8bd2fe400b89</td>\n",
       "      <td>23e2d97bfc7f</td>\n",
       "      <td>Оренбургская область</td>\n",
       "      <td>Бузулук</td>\n",
       "      <td>Личные вещи</td>\n",
       "      <td>Товары для детей и игрушки</td>\n",
       "      <td>Детские коляски</td>\n",
       "      <td>NaN</td>\n",
       "      <td>NaN</td>\n",
       "      <td>Коляска зима-лето</td>\n",
       "      <td>Продам отличную коляску. б/у 1 год. все вопрос...</td>\n",
       "      <td>4900.0</td>\n",
       "      <td>15</td>\n",
       "      <td>2017-04-15</td>\n",
       "      <td>Private</td>\n",
       "      <td>bc3cf6deef10840fc302e38eb48fa7748aa1e28d534f8f...</td>\n",
       "      <td>1002.0</td>\n",
       "    </tr>\n",
       "  </tbody>\n",
       "</table>\n",
       "</div>"
      ],
      "text/plain": [
       "        item_id       user_id                 region         city  \\\n",
       "0  6544e41a8817  dbe73ad6e4b5  Волгоградская область    Волгоград   \n",
       "1  65b9484d670f  2e11806abe57   Свердловская область  Нижняя Тура   \n",
       "2  8bab230b2ecd  0b850bbebb10  Новосибирская область       Бердск   \n",
       "3  8e348601fefc  5f1d5c3ce0da    Саратовская область      Саратов   \n",
       "4  8bd2fe400b89  23e2d97bfc7f   Оренбургская область      Бузулук   \n",
       "\n",
       "  parent_category_name               category_name                 param_1  \\\n",
       "0          Личные вещи      Детская одежда и обувь           Для мальчиков   \n",
       "1        Хобби и отдых                  Велосипеды                Дорожные   \n",
       "2  Бытовая электроника               Аудио и видео  Телевизоры и проекторы   \n",
       "3      Для дома и дачи             Бытовая техника               Для кухни   \n",
       "4          Личные вещи  Товары для детей и игрушки         Детские коляски   \n",
       "\n",
       "   param_2 param_3              title  \\\n",
       "0    Обувь      25    Отдам бесплатно   \n",
       "1      NaN     NaN   Продам велосипед   \n",
       "2      NaN     NaN                BBK   \n",
       "3  Вытяжки     NaN  Вытяжка Jetair 60   \n",
       "4      NaN     NaN  Коляска зима-лето   \n",
       "\n",
       "                                         description    price  \\\n",
       "0                                       На ангарском      NaN   \n",
       "1  Продам велосипед KAMA  F200,в нормальном состо...   3000.0   \n",
       "2  Продам новый телевизор BBK  32 диагональ смарт...  15000.0   \n",
       "3  Продам новую вытяжку в упаковке,с документами....   4500.0   \n",
       "4  Продам отличную коляску. б/у 1 год. все вопрос...   4900.0   \n",
       "\n",
       "   item_seq_number activation_date user_type  \\\n",
       "0               66      2017-04-18   Private   \n",
       "1                4      2017-04-16   Private   \n",
       "2               15      2017-04-17   Private   \n",
       "3               70      2017-04-17   Private   \n",
       "4               15      2017-04-15   Private   \n",
       "\n",
       "                                               image  image_top_1  \n",
       "0  a8b57acb5ab304f9c331ac7a074219aed4d349d8aef386...       2020.0  \n",
       "1                                                NaN          NaN  \n",
       "2  8c361112cb049745ef2d1b0ae73594fc5c107286b0c942...       2960.0  \n",
       "3                                                NaN          NaN  \n",
       "4  bc3cf6deef10840fc302e38eb48fa7748aa1e28d534f8f...       1002.0  "
      ]
     },
     "execution_count": 30,
     "metadata": {},
     "output_type": "execute_result"
    }
   ],
   "source": [
    "df2.head(5)"
   ]
  },
  {
   "cell_type": "code",
   "execution_count": 31,
   "id": "9de2d430-5fad-45d2-ab45-cecaf9e43fd1",
   "metadata": {},
   "outputs": [
    {
     "name": "stdout",
     "output_type": "stream",
     "text": [
      "<class 'pandas.core.frame.DataFrame'>\n",
      "RangeIndex: 13724922 entries, 0 to 13724921\n",
      "Data columns (total 4 columns):\n",
      " #   Column           Dtype \n",
      "---  ------           ----- \n",
      " 0   item_id          object\n",
      " 1   activation_date  object\n",
      " 2   date_from        object\n",
      " 3   date_to          object\n",
      "dtypes: object(4)\n",
      "memory usage: 418.9+ MB\n",
      "None\n"
     ]
    }
   ],
   "source": [
    "# осмотр типов данных\n",
    "print(df1.info())"
   ]
  },
  {
   "cell_type": "code",
   "execution_count": 32,
   "id": "94dd0db9-278c-495c-a396-03be8236f949",
   "metadata": {},
   "outputs": [
    {
     "name": "stdout",
     "output_type": "stream",
     "text": [
      "<class 'pandas.core.frame.DataFrame'>\n",
      "RangeIndex: 508438 entries, 0 to 508437\n",
      "Data columns (total 17 columns):\n",
      " #   Column                Non-Null Count   Dtype  \n",
      "---  ------                --------------   -----  \n",
      " 0   item_id               508438 non-null  object \n",
      " 1   user_id               508438 non-null  object \n",
      " 2   region                508438 non-null  object \n",
      " 3   city                  508438 non-null  object \n",
      " 4   parent_category_name  508438 non-null  object \n",
      " 5   category_name         508438 non-null  object \n",
      " 6   param_1               485528 non-null  object \n",
      " 7   param_2               275209 non-null  object \n",
      " 8   param_3               202107 non-null  object \n",
      " 9   title                 508438 non-null  object \n",
      " 10  description           508438 non-null  object \n",
      " 11  price                 477853 non-null  float64\n",
      " 12  item_seq_number       508438 non-null  int64  \n",
      " 13  activation_date       508438 non-null  object \n",
      " 14  user_type             508438 non-null  object \n",
      " 15  image                 465829 non-null  object \n",
      " 16  image_top_1           465829 non-null  float64\n",
      "dtypes: float64(2), int64(1), object(14)\n",
      "memory usage: 65.9+ MB\n",
      "None\n"
     ]
    }
   ],
   "source": [
    "print(df2.info())"
   ]
  },
  {
   "cell_type": "markdown",
   "id": "a26cdc21-6867-499a-ba0c-0f90b235656d",
   "metadata": {},
   "source": [
    ">##### Описание столбцов\n",
    ">* item_id - уникальных id пользователя \n",
    ">* user_id - имя пользователя \n",
    ">* region - регион\n",
    ">* city - город\n",
    ">* parent_category_name - главная категория объявления\n",
    ">* category_name - категория объявления\n",
    ">* param_1 - 1-я подкатегория \n",
    ">* param_2 - 2-я подкатегория\n",
    ">* param_3 - 3-я подкатегория\n",
    ">* title - заголовок объявления\n",
    ">* description - описание объявления\n",
    ">* price - цена\n",
    ">* activation_date - дата активации\n",
    ">* user_type - тип пользователям, 3 уникальных типа (Private, Compamy, Shop)\n",
    ">* image - id изображения\n",
    ">* image_top_1 - имя изображения"
   ]
  },
  {
   "cell_type": "code",
   "execution_count": 33,
   "id": "5ebdb5ba-82e6-42ae-a90d-fe04e9422b8c",
   "metadata": {},
   "outputs": [
    {
     "data": {
      "text/html": [
       "<div>\n",
       "<style scoped>\n",
       "    .dataframe tbody tr th:only-of-type {\n",
       "        vertical-align: middle;\n",
       "    }\n",
       "\n",
       "    .dataframe tbody tr th {\n",
       "        vertical-align: top;\n",
       "    }\n",
       "\n",
       "    .dataframe thead th {\n",
       "        text-align: right;\n",
       "    }\n",
       "</style>\n",
       "<table border=\"1\" class=\"dataframe\">\n",
       "  <thead>\n",
       "    <tr style=\"text-align: right;\">\n",
       "      <th></th>\n",
       "      <th>0</th>\n",
       "      <th>1</th>\n",
       "      <th>2</th>\n",
       "      <th>3</th>\n",
       "      <th>4</th>\n",
       "    </tr>\n",
       "  </thead>\n",
       "  <tbody>\n",
       "    <tr>\n",
       "      <th>item_id</th>\n",
       "      <td>f3a62a713278</td>\n",
       "      <td>045ec5dabe07</td>\n",
       "      <td>801d15e12e25</td>\n",
       "      <td>0a981789d4af</td>\n",
       "      <td>cab2ed403350</td>\n",
       "    </tr>\n",
       "    <tr>\n",
       "      <th>activation_date</th>\n",
       "      <td>2017-03-13</td>\n",
       "      <td>2017-04-03</td>\n",
       "      <td>2017-04-17</td>\n",
       "      <td>2017-03-23</td>\n",
       "      <td>2017-03-28</td>\n",
       "    </tr>\n",
       "    <tr>\n",
       "      <th>date_from</th>\n",
       "      <td>2017-04-12</td>\n",
       "      <td>2017-04-12</td>\n",
       "      <td>2017-04-17</td>\n",
       "      <td>2017-04-12</td>\n",
       "      <td>2017-04-12</td>\n",
       "    </tr>\n",
       "    <tr>\n",
       "      <th>date_to</th>\n",
       "      <td>2017-04-12</td>\n",
       "      <td>2017-04-18</td>\n",
       "      <td>2017-04-18</td>\n",
       "      <td>2017-04-18</td>\n",
       "      <td>2017-04-18</td>\n",
       "    </tr>\n",
       "  </tbody>\n",
       "</table>\n",
       "</div>"
      ],
      "text/plain": [
       "                            0             1             2             3  \\\n",
       "item_id          f3a62a713278  045ec5dabe07  801d15e12e25  0a981789d4af   \n",
       "activation_date    2017-03-13    2017-04-03    2017-04-17    2017-03-23   \n",
       "date_from          2017-04-12    2017-04-12    2017-04-17    2017-04-12   \n",
       "date_to            2017-04-12    2017-04-18    2017-04-18    2017-04-18   \n",
       "\n",
       "                            4  \n",
       "item_id          cab2ed403350  \n",
       "activation_date    2017-03-28  \n",
       "date_from          2017-04-12  \n",
       "date_to            2017-04-18  "
      ]
     },
     "execution_count": 33,
     "metadata": {},
     "output_type": "execute_result"
    }
   ],
   "source": [
    "df1.head(5).transpose() "
   ]
  },
  {
   "cell_type": "code",
   "execution_count": 34,
   "id": "71668d87-79de-42d7-a881-a0b565e5c238",
   "metadata": {},
   "outputs": [
    {
     "data": {
      "text/html": [
       "<div>\n",
       "<style scoped>\n",
       "    .dataframe tbody tr th:only-of-type {\n",
       "        vertical-align: middle;\n",
       "    }\n",
       "\n",
       "    .dataframe tbody tr th {\n",
       "        vertical-align: top;\n",
       "    }\n",
       "\n",
       "    .dataframe thead th {\n",
       "        text-align: right;\n",
       "    }\n",
       "</style>\n",
       "<table border=\"1\" class=\"dataframe\">\n",
       "  <thead>\n",
       "    <tr style=\"text-align: right;\">\n",
       "      <th></th>\n",
       "      <th>0</th>\n",
       "      <th>1</th>\n",
       "      <th>2</th>\n",
       "      <th>3</th>\n",
       "      <th>4</th>\n",
       "    </tr>\n",
       "  </thead>\n",
       "  <tbody>\n",
       "    <tr>\n",
       "      <th>item_id</th>\n",
       "      <td>6544e41a8817</td>\n",
       "      <td>65b9484d670f</td>\n",
       "      <td>8bab230b2ecd</td>\n",
       "      <td>8e348601fefc</td>\n",
       "      <td>8bd2fe400b89</td>\n",
       "    </tr>\n",
       "    <tr>\n",
       "      <th>user_id</th>\n",
       "      <td>dbe73ad6e4b5</td>\n",
       "      <td>2e11806abe57</td>\n",
       "      <td>0b850bbebb10</td>\n",
       "      <td>5f1d5c3ce0da</td>\n",
       "      <td>23e2d97bfc7f</td>\n",
       "    </tr>\n",
       "    <tr>\n",
       "      <th>region</th>\n",
       "      <td>Волгоградская область</td>\n",
       "      <td>Свердловская область</td>\n",
       "      <td>Новосибирская область</td>\n",
       "      <td>Саратовская область</td>\n",
       "      <td>Оренбургская область</td>\n",
       "    </tr>\n",
       "    <tr>\n",
       "      <th>city</th>\n",
       "      <td>Волгоград</td>\n",
       "      <td>Нижняя Тура</td>\n",
       "      <td>Бердск</td>\n",
       "      <td>Саратов</td>\n",
       "      <td>Бузулук</td>\n",
       "    </tr>\n",
       "    <tr>\n",
       "      <th>parent_category_name</th>\n",
       "      <td>Личные вещи</td>\n",
       "      <td>Хобби и отдых</td>\n",
       "      <td>Бытовая электроника</td>\n",
       "      <td>Для дома и дачи</td>\n",
       "      <td>Личные вещи</td>\n",
       "    </tr>\n",
       "    <tr>\n",
       "      <th>category_name</th>\n",
       "      <td>Детская одежда и обувь</td>\n",
       "      <td>Велосипеды</td>\n",
       "      <td>Аудио и видео</td>\n",
       "      <td>Бытовая техника</td>\n",
       "      <td>Товары для детей и игрушки</td>\n",
       "    </tr>\n",
       "    <tr>\n",
       "      <th>param_1</th>\n",
       "      <td>Для мальчиков</td>\n",
       "      <td>Дорожные</td>\n",
       "      <td>Телевизоры и проекторы</td>\n",
       "      <td>Для кухни</td>\n",
       "      <td>Детские коляски</td>\n",
       "    </tr>\n",
       "    <tr>\n",
       "      <th>param_2</th>\n",
       "      <td>Обувь</td>\n",
       "      <td>NaN</td>\n",
       "      <td>NaN</td>\n",
       "      <td>Вытяжки</td>\n",
       "      <td>NaN</td>\n",
       "    </tr>\n",
       "    <tr>\n",
       "      <th>param_3</th>\n",
       "      <td>25</td>\n",
       "      <td>NaN</td>\n",
       "      <td>NaN</td>\n",
       "      <td>NaN</td>\n",
       "      <td>NaN</td>\n",
       "    </tr>\n",
       "    <tr>\n",
       "      <th>title</th>\n",
       "      <td>Отдам бесплатно</td>\n",
       "      <td>Продам велосипед</td>\n",
       "      <td>BBK</td>\n",
       "      <td>Вытяжка Jetair 60</td>\n",
       "      <td>Коляска зима-лето</td>\n",
       "    </tr>\n",
       "    <tr>\n",
       "      <th>description</th>\n",
       "      <td>На ангарском</td>\n",
       "      <td>Продам велосипед KAMA  F200,в нормальном состо...</td>\n",
       "      <td>Продам новый телевизор BBK  32 диагональ смарт...</td>\n",
       "      <td>Продам новую вытяжку в упаковке,с документами....</td>\n",
       "      <td>Продам отличную коляску. б/у 1 год. все вопрос...</td>\n",
       "    </tr>\n",
       "    <tr>\n",
       "      <th>price</th>\n",
       "      <td>NaN</td>\n",
       "      <td>3000.0</td>\n",
       "      <td>15000.0</td>\n",
       "      <td>4500.0</td>\n",
       "      <td>4900.0</td>\n",
       "    </tr>\n",
       "    <tr>\n",
       "      <th>item_seq_number</th>\n",
       "      <td>66</td>\n",
       "      <td>4</td>\n",
       "      <td>15</td>\n",
       "      <td>70</td>\n",
       "      <td>15</td>\n",
       "    </tr>\n",
       "    <tr>\n",
       "      <th>activation_date</th>\n",
       "      <td>2017-04-18</td>\n",
       "      <td>2017-04-16</td>\n",
       "      <td>2017-04-17</td>\n",
       "      <td>2017-04-17</td>\n",
       "      <td>2017-04-15</td>\n",
       "    </tr>\n",
       "    <tr>\n",
       "      <th>user_type</th>\n",
       "      <td>Private</td>\n",
       "      <td>Private</td>\n",
       "      <td>Private</td>\n",
       "      <td>Private</td>\n",
       "      <td>Private</td>\n",
       "    </tr>\n",
       "    <tr>\n",
       "      <th>image</th>\n",
       "      <td>a8b57acb5ab304f9c331ac7a074219aed4d349d8aef386...</td>\n",
       "      <td>NaN</td>\n",
       "      <td>8c361112cb049745ef2d1b0ae73594fc5c107286b0c942...</td>\n",
       "      <td>NaN</td>\n",
       "      <td>bc3cf6deef10840fc302e38eb48fa7748aa1e28d534f8f...</td>\n",
       "    </tr>\n",
       "    <tr>\n",
       "      <th>image_top_1</th>\n",
       "      <td>2020.0</td>\n",
       "      <td>NaN</td>\n",
       "      <td>2960.0</td>\n",
       "      <td>NaN</td>\n",
       "      <td>1002.0</td>\n",
       "    </tr>\n",
       "  </tbody>\n",
       "</table>\n",
       "</div>"
      ],
      "text/plain": [
       "                                                                      0  \\\n",
       "item_id                                                    6544e41a8817   \n",
       "user_id                                                    dbe73ad6e4b5   \n",
       "region                                            Волгоградская область   \n",
       "city                                                          Волгоград   \n",
       "parent_category_name                                        Личные вещи   \n",
       "category_name                                    Детская одежда и обувь   \n",
       "param_1                                                   Для мальчиков   \n",
       "param_2                                                           Обувь   \n",
       "param_3                                                              25   \n",
       "title                                                   Отдам бесплатно   \n",
       "description                                                На ангарском   \n",
       "price                                                               NaN   \n",
       "item_seq_number                                                      66   \n",
       "activation_date                                              2017-04-18   \n",
       "user_type                                                       Private   \n",
       "image                 a8b57acb5ab304f9c331ac7a074219aed4d349d8aef386...   \n",
       "image_top_1                                                      2020.0   \n",
       "\n",
       "                                                                      1  \\\n",
       "item_id                                                    65b9484d670f   \n",
       "user_id                                                    2e11806abe57   \n",
       "region                                             Свердловская область   \n",
       "city                                                        Нижняя Тура   \n",
       "parent_category_name                                      Хобби и отдых   \n",
       "category_name                                                Велосипеды   \n",
       "param_1                                                        Дорожные   \n",
       "param_2                                                             NaN   \n",
       "param_3                                                             NaN   \n",
       "title                                                  Продам велосипед   \n",
       "description           Продам велосипед KAMA  F200,в нормальном состо...   \n",
       "price                                                            3000.0   \n",
       "item_seq_number                                                       4   \n",
       "activation_date                                              2017-04-16   \n",
       "user_type                                                       Private   \n",
       "image                                                               NaN   \n",
       "image_top_1                                                         NaN   \n",
       "\n",
       "                                                                      2  \\\n",
       "item_id                                                    8bab230b2ecd   \n",
       "user_id                                                    0b850bbebb10   \n",
       "region                                            Новосибирская область   \n",
       "city                                                             Бердск   \n",
       "parent_category_name                                Бытовая электроника   \n",
       "category_name                                             Аудио и видео   \n",
       "param_1                                          Телевизоры и проекторы   \n",
       "param_2                                                             NaN   \n",
       "param_3                                                             NaN   \n",
       "title                                                               BBK   \n",
       "description           Продам новый телевизор BBK  32 диагональ смарт...   \n",
       "price                                                           15000.0   \n",
       "item_seq_number                                                      15   \n",
       "activation_date                                              2017-04-17   \n",
       "user_type                                                       Private   \n",
       "image                 8c361112cb049745ef2d1b0ae73594fc5c107286b0c942...   \n",
       "image_top_1                                                      2960.0   \n",
       "\n",
       "                                                                      3  \\\n",
       "item_id                                                    8e348601fefc   \n",
       "user_id                                                    5f1d5c3ce0da   \n",
       "region                                              Саратовская область   \n",
       "city                                                            Саратов   \n",
       "parent_category_name                                    Для дома и дачи   \n",
       "category_name                                           Бытовая техника   \n",
       "param_1                                                       Для кухни   \n",
       "param_2                                                         Вытяжки   \n",
       "param_3                                                             NaN   \n",
       "title                                                 Вытяжка Jetair 60   \n",
       "description           Продам новую вытяжку в упаковке,с документами....   \n",
       "price                                                            4500.0   \n",
       "item_seq_number                                                      70   \n",
       "activation_date                                              2017-04-17   \n",
       "user_type                                                       Private   \n",
       "image                                                               NaN   \n",
       "image_top_1                                                         NaN   \n",
       "\n",
       "                                                                      4  \n",
       "item_id                                                    8bd2fe400b89  \n",
       "user_id                                                    23e2d97bfc7f  \n",
       "region                                             Оренбургская область  \n",
       "city                                                            Бузулук  \n",
       "parent_category_name                                        Личные вещи  \n",
       "category_name                                Товары для детей и игрушки  \n",
       "param_1                                                 Детские коляски  \n",
       "param_2                                                             NaN  \n",
       "param_3                                                             NaN  \n",
       "title                                                 Коляска зима-лето  \n",
       "description           Продам отличную коляску. б/у 1 год. все вопрос...  \n",
       "price                                                            4900.0  \n",
       "item_seq_number                                                      15  \n",
       "activation_date                                              2017-04-15  \n",
       "user_type                                                       Private  \n",
       "image                 bc3cf6deef10840fc302e38eb48fa7748aa1e28d534f8f...  \n",
       "image_top_1                                                      1002.0  "
      ]
     },
     "execution_count": 34,
     "metadata": {},
     "output_type": "execute_result"
    }
   ],
   "source": [
    "df2.head(5).transpose()"
   ]
  },
  {
   "cell_type": "markdown",
   "id": "e791e638-82ed-49d2-9ad9-d425f101da04",
   "metadata": {},
   "source": [
    "* сводная статистика по столбцам с числовыми данными"
   ]
  },
  {
   "cell_type": "code",
   "execution_count": 35,
   "id": "1f4b065d-208d-4cf9-acc3-421ce6de150a",
   "metadata": {},
   "outputs": [
    {
     "data": {
      "text/html": [
       "<div>\n",
       "<style scoped>\n",
       "    .dataframe tbody tr th:only-of-type {\n",
       "        vertical-align: middle;\n",
       "    }\n",
       "\n",
       "    .dataframe tbody tr th {\n",
       "        vertical-align: top;\n",
       "    }\n",
       "\n",
       "    .dataframe thead th {\n",
       "        text-align: right;\n",
       "    }\n",
       "</style>\n",
       "<table border=\"1\" class=\"dataframe\">\n",
       "  <thead>\n",
       "    <tr style=\"text-align: right;\">\n",
       "      <th></th>\n",
       "      <th>price</th>\n",
       "      <th>item_seq_number</th>\n",
       "      <th>image_top_1</th>\n",
       "    </tr>\n",
       "  </thead>\n",
       "  <tbody>\n",
       "    <tr>\n",
       "      <th>count</th>\n",
       "      <td>4.778530e+05</td>\n",
       "      <td>508438.000000</td>\n",
       "      <td>465829.000000</td>\n",
       "    </tr>\n",
       "    <tr>\n",
       "      <th>mean</th>\n",
       "      <td>2.798189e+05</td>\n",
       "      <td>825.132150</td>\n",
       "      <td>1297.959228</td>\n",
       "    </tr>\n",
       "    <tr>\n",
       "      <th>std</th>\n",
       "      <td>5.364218e+06</td>\n",
       "      <td>5646.868618</td>\n",
       "      <td>961.065300</td>\n",
       "    </tr>\n",
       "    <tr>\n",
       "      <th>min</th>\n",
       "      <td>0.000000e+00</td>\n",
       "      <td>1.000000</td>\n",
       "      <td>0.000000</td>\n",
       "    </tr>\n",
       "    <tr>\n",
       "      <th>25%</th>\n",
       "      <td>5.000000e+02</td>\n",
       "      <td>8.000000</td>\n",
       "      <td>467.000000</td>\n",
       "    </tr>\n",
       "    <tr>\n",
       "      <th>50%</th>\n",
       "      <td>1.500000e+03</td>\n",
       "      <td>30.000000</td>\n",
       "      <td>1132.000000</td>\n",
       "    </tr>\n",
       "    <tr>\n",
       "      <th>75%</th>\n",
       "      <td>8.600000e+03</td>\n",
       "      <td>94.000000</td>\n",
       "      <td>2218.000000</td>\n",
       "    </tr>\n",
       "    <tr>\n",
       "      <th>max</th>\n",
       "      <td>3.000060e+09</td>\n",
       "      <td>205064.000000</td>\n",
       "      <td>3066.000000</td>\n",
       "    </tr>\n",
       "  </tbody>\n",
       "</table>\n",
       "</div>"
      ],
      "text/plain": [
       "              price  item_seq_number    image_top_1\n",
       "count  4.778530e+05    508438.000000  465829.000000\n",
       "mean   2.798189e+05       825.132150    1297.959228\n",
       "std    5.364218e+06      5646.868618     961.065300\n",
       "min    0.000000e+00         1.000000       0.000000\n",
       "25%    5.000000e+02         8.000000     467.000000\n",
       "50%    1.500000e+03        30.000000    1132.000000\n",
       "75%    8.600000e+03        94.000000    2218.000000\n",
       "max    3.000060e+09    205064.000000    3066.000000"
      ]
     },
     "execution_count": 35,
     "metadata": {},
     "output_type": "execute_result"
    }
   ],
   "source": [
    "df2.describe() "
   ]
  },
  {
   "cell_type": "markdown",
   "id": "4bb3b48b-68cb-4228-8f82-cffa3844e776",
   "metadata": {},
   "source": [
    ">##### Вызов df.describe с параметром (include='all') выводит сводку статистических данных для всех столбцов в вашем датафрейме, включая и категориальные переменные. По умолчанию в сводке фигурируют только числовые данные. \n",
    "\n",
    ">###### Вот что вы получите в сводке:\n",
    "\n",
    ">- count: Количество непустых значений в каждом столбце.\n",
    ">- unique: Количество уникальных значений в каждом столбце. Это применимо только к категориальным столбцам.\n",
    ">- top: Самое часто встречающееся значение в каждом столбце. Это применимо только к категориальным столбцам.\n",
    ">- freq: Количество раз, которое самое частое значение встречается в каждом столбце. Это применимо только к категориальным столбцам.\n",
    ">- mean: Среднее значение числовых данных в каждом столбце.\n",
    ">- std: Стандартное отклонение числовых данных в каждом столбце.\n",
    ">- min: Минимальное значение в каждом столбце.\n",
    ">- 25% (quantile): Значение, ниже которого попадает 25% данных.\n",
    ">- 50% (quantile): Значение, ниже которого попадает 50% данных (медиана).\n",
    ">- 75% (quantile): Значение, ниже которого попадает 75% данных.\n",
    ">- max: Максимальное значение в каждом столбце."
   ]
  },
  {
   "cell_type": "code",
   "execution_count": 37,
   "id": "8e6bc7e7-4fb3-4c5d-b970-899779cb3dea",
   "metadata": {},
   "outputs": [
    {
     "data": {
      "text/html": [
       "<div>\n",
       "<style scoped>\n",
       "    .dataframe tbody tr th:only-of-type {\n",
       "        vertical-align: middle;\n",
       "    }\n",
       "\n",
       "    .dataframe tbody tr th {\n",
       "        vertical-align: top;\n",
       "    }\n",
       "\n",
       "    .dataframe thead th {\n",
       "        text-align: right;\n",
       "    }\n",
       "</style>\n",
       "<table border=\"1\" class=\"dataframe\">\n",
       "  <thead>\n",
       "    <tr style=\"text-align: right;\">\n",
       "      <th></th>\n",
       "      <th>item_id</th>\n",
       "      <th>user_id</th>\n",
       "      <th>region</th>\n",
       "      <th>city</th>\n",
       "      <th>parent_category_name</th>\n",
       "      <th>category_name</th>\n",
       "      <th>param_1</th>\n",
       "      <th>param_2</th>\n",
       "      <th>param_3</th>\n",
       "      <th>title</th>\n",
       "      <th>description</th>\n",
       "      <th>price</th>\n",
       "      <th>item_seq_number</th>\n",
       "      <th>activation_date</th>\n",
       "      <th>user_type</th>\n",
       "      <th>image</th>\n",
       "      <th>image_top_1</th>\n",
       "    </tr>\n",
       "  </thead>\n",
       "  <tbody>\n",
       "    <tr>\n",
       "      <th>count</th>\n",
       "      <td>508438</td>\n",
       "      <td>508438</td>\n",
       "      <td>508438</td>\n",
       "      <td>508438</td>\n",
       "      <td>508438</td>\n",
       "      <td>508438</td>\n",
       "      <td>485528</td>\n",
       "      <td>275209</td>\n",
       "      <td>202107</td>\n",
       "      <td>508438</td>\n",
       "      <td>508438</td>\n",
       "      <td>4.778530e+05</td>\n",
       "      <td>508438.000000</td>\n",
       "      <td>508438</td>\n",
       "      <td>508438</td>\n",
       "      <td>465829</td>\n",
       "      <td>465829.000000</td>\n",
       "    </tr>\n",
       "    <tr>\n",
       "      <th>unique</th>\n",
       "      <td>508438</td>\n",
       "      <td>306069</td>\n",
       "      <td>28</td>\n",
       "      <td>1644</td>\n",
       "      <td>9</td>\n",
       "      <td>47</td>\n",
       "      <td>361</td>\n",
       "      <td>255</td>\n",
       "      <td>973</td>\n",
       "      <td>298039</td>\n",
       "      <td>485209</td>\n",
       "      <td>NaN</td>\n",
       "      <td>NaN</td>\n",
       "      <td>9</td>\n",
       "      <td>3</td>\n",
       "      <td>465829</td>\n",
       "      <td>NaN</td>\n",
       "    </tr>\n",
       "    <tr>\n",
       "      <th>top</th>\n",
       "      <td>6544e41a8817</td>\n",
       "      <td>abcdd1ca1a5c</td>\n",
       "      <td>Краснодарский край</td>\n",
       "      <td>Екатеринбург</td>\n",
       "      <td>Личные вещи</td>\n",
       "      <td>Одежда, обувь, аксессуары</td>\n",
       "      <td>Женская одежда</td>\n",
       "      <td>Обувь</td>\n",
       "      <td>Вторичка</td>\n",
       "      <td>Платье</td>\n",
       "      <td>В хорошем состоянии</td>\n",
       "      <td>NaN</td>\n",
       "      <td>NaN</td>\n",
       "      <td>2017-04-12</td>\n",
       "      <td>Private</td>\n",
       "      <td>a8b57acb5ab304f9c331ac7a074219aed4d349d8aef386...</td>\n",
       "      <td>NaN</td>\n",
       "    </tr>\n",
       "    <tr>\n",
       "      <th>freq</th>\n",
       "      <td>1</td>\n",
       "      <td>496</td>\n",
       "      <td>45098</td>\n",
       "      <td>22391</td>\n",
       "      <td>216577</td>\n",
       "      <td>84896</td>\n",
       "      <td>66642</td>\n",
       "      <td>48776</td>\n",
       "      <td>18307</td>\n",
       "      <td>4673</td>\n",
       "      <td>918</td>\n",
       "      <td>NaN</td>\n",
       "      <td>NaN</td>\n",
       "      <td>81824</td>\n",
       "      <td>358259</td>\n",
       "      <td>1</td>\n",
       "      <td>NaN</td>\n",
       "    </tr>\n",
       "    <tr>\n",
       "      <th>mean</th>\n",
       "      <td>NaN</td>\n",
       "      <td>NaN</td>\n",
       "      <td>NaN</td>\n",
       "      <td>NaN</td>\n",
       "      <td>NaN</td>\n",
       "      <td>NaN</td>\n",
       "      <td>NaN</td>\n",
       "      <td>NaN</td>\n",
       "      <td>NaN</td>\n",
       "      <td>NaN</td>\n",
       "      <td>NaN</td>\n",
       "      <td>2.798189e+05</td>\n",
       "      <td>825.132150</td>\n",
       "      <td>NaN</td>\n",
       "      <td>NaN</td>\n",
       "      <td>NaN</td>\n",
       "      <td>1297.959228</td>\n",
       "    </tr>\n",
       "    <tr>\n",
       "      <th>std</th>\n",
       "      <td>NaN</td>\n",
       "      <td>NaN</td>\n",
       "      <td>NaN</td>\n",
       "      <td>NaN</td>\n",
       "      <td>NaN</td>\n",
       "      <td>NaN</td>\n",
       "      <td>NaN</td>\n",
       "      <td>NaN</td>\n",
       "      <td>NaN</td>\n",
       "      <td>NaN</td>\n",
       "      <td>NaN</td>\n",
       "      <td>5.364218e+06</td>\n",
       "      <td>5646.868618</td>\n",
       "      <td>NaN</td>\n",
       "      <td>NaN</td>\n",
       "      <td>NaN</td>\n",
       "      <td>961.065300</td>\n",
       "    </tr>\n",
       "    <tr>\n",
       "      <th>min</th>\n",
       "      <td>NaN</td>\n",
       "      <td>NaN</td>\n",
       "      <td>NaN</td>\n",
       "      <td>NaN</td>\n",
       "      <td>NaN</td>\n",
       "      <td>NaN</td>\n",
       "      <td>NaN</td>\n",
       "      <td>NaN</td>\n",
       "      <td>NaN</td>\n",
       "      <td>NaN</td>\n",
       "      <td>NaN</td>\n",
       "      <td>0.000000e+00</td>\n",
       "      <td>1.000000</td>\n",
       "      <td>NaN</td>\n",
       "      <td>NaN</td>\n",
       "      <td>NaN</td>\n",
       "      <td>0.000000</td>\n",
       "    </tr>\n",
       "    <tr>\n",
       "      <th>25%</th>\n",
       "      <td>NaN</td>\n",
       "      <td>NaN</td>\n",
       "      <td>NaN</td>\n",
       "      <td>NaN</td>\n",
       "      <td>NaN</td>\n",
       "      <td>NaN</td>\n",
       "      <td>NaN</td>\n",
       "      <td>NaN</td>\n",
       "      <td>NaN</td>\n",
       "      <td>NaN</td>\n",
       "      <td>NaN</td>\n",
       "      <td>5.000000e+02</td>\n",
       "      <td>8.000000</td>\n",
       "      <td>NaN</td>\n",
       "      <td>NaN</td>\n",
       "      <td>NaN</td>\n",
       "      <td>467.000000</td>\n",
       "    </tr>\n",
       "    <tr>\n",
       "      <th>50%</th>\n",
       "      <td>NaN</td>\n",
       "      <td>NaN</td>\n",
       "      <td>NaN</td>\n",
       "      <td>NaN</td>\n",
       "      <td>NaN</td>\n",
       "      <td>NaN</td>\n",
       "      <td>NaN</td>\n",
       "      <td>NaN</td>\n",
       "      <td>NaN</td>\n",
       "      <td>NaN</td>\n",
       "      <td>NaN</td>\n",
       "      <td>1.500000e+03</td>\n",
       "      <td>30.000000</td>\n",
       "      <td>NaN</td>\n",
       "      <td>NaN</td>\n",
       "      <td>NaN</td>\n",
       "      <td>1132.000000</td>\n",
       "    </tr>\n",
       "    <tr>\n",
       "      <th>75%</th>\n",
       "      <td>NaN</td>\n",
       "      <td>NaN</td>\n",
       "      <td>NaN</td>\n",
       "      <td>NaN</td>\n",
       "      <td>NaN</td>\n",
       "      <td>NaN</td>\n",
       "      <td>NaN</td>\n",
       "      <td>NaN</td>\n",
       "      <td>NaN</td>\n",
       "      <td>NaN</td>\n",
       "      <td>NaN</td>\n",
       "      <td>8.600000e+03</td>\n",
       "      <td>94.000000</td>\n",
       "      <td>NaN</td>\n",
       "      <td>NaN</td>\n",
       "      <td>NaN</td>\n",
       "      <td>2218.000000</td>\n",
       "    </tr>\n",
       "    <tr>\n",
       "      <th>max</th>\n",
       "      <td>NaN</td>\n",
       "      <td>NaN</td>\n",
       "      <td>NaN</td>\n",
       "      <td>NaN</td>\n",
       "      <td>NaN</td>\n",
       "      <td>NaN</td>\n",
       "      <td>NaN</td>\n",
       "      <td>NaN</td>\n",
       "      <td>NaN</td>\n",
       "      <td>NaN</td>\n",
       "      <td>NaN</td>\n",
       "      <td>3.000060e+09</td>\n",
       "      <td>205064.000000</td>\n",
       "      <td>NaN</td>\n",
       "      <td>NaN</td>\n",
       "      <td>NaN</td>\n",
       "      <td>3066.000000</td>\n",
       "    </tr>\n",
       "  </tbody>\n",
       "</table>\n",
       "</div>"
      ],
      "text/plain": [
       "             item_id       user_id              region          city  \\\n",
       "count         508438        508438              508438        508438   \n",
       "unique        508438        306069                  28          1644   \n",
       "top     6544e41a8817  abcdd1ca1a5c  Краснодарский край  Екатеринбург   \n",
       "freq               1           496               45098         22391   \n",
       "mean             NaN           NaN                 NaN           NaN   \n",
       "std              NaN           NaN                 NaN           NaN   \n",
       "min              NaN           NaN                 NaN           NaN   \n",
       "25%              NaN           NaN                 NaN           NaN   \n",
       "50%              NaN           NaN                 NaN           NaN   \n",
       "75%              NaN           NaN                 NaN           NaN   \n",
       "max              NaN           NaN                 NaN           NaN   \n",
       "\n",
       "       parent_category_name              category_name         param_1  \\\n",
       "count                508438                     508438          485528   \n",
       "unique                    9                         47             361   \n",
       "top             Личные вещи  Одежда, обувь, аксессуары  Женская одежда   \n",
       "freq                 216577                      84896           66642   \n",
       "mean                    NaN                        NaN             NaN   \n",
       "std                     NaN                        NaN             NaN   \n",
       "min                     NaN                        NaN             NaN   \n",
       "25%                     NaN                        NaN             NaN   \n",
       "50%                     NaN                        NaN             NaN   \n",
       "75%                     NaN                        NaN             NaN   \n",
       "max                     NaN                        NaN             NaN   \n",
       "\n",
       "       param_2   param_3   title          description         price  \\\n",
       "count   275209    202107  508438               508438  4.778530e+05   \n",
       "unique     255       973  298039               485209           NaN   \n",
       "top      Обувь  Вторичка  Платье  В хорошем состоянии           NaN   \n",
       "freq     48776     18307    4673                  918           NaN   \n",
       "mean       NaN       NaN     NaN                  NaN  2.798189e+05   \n",
       "std        NaN       NaN     NaN                  NaN  5.364218e+06   \n",
       "min        NaN       NaN     NaN                  NaN  0.000000e+00   \n",
       "25%        NaN       NaN     NaN                  NaN  5.000000e+02   \n",
       "50%        NaN       NaN     NaN                  NaN  1.500000e+03   \n",
       "75%        NaN       NaN     NaN                  NaN  8.600000e+03   \n",
       "max        NaN       NaN     NaN                  NaN  3.000060e+09   \n",
       "\n",
       "        item_seq_number activation_date user_type  \\\n",
       "count     508438.000000          508438    508438   \n",
       "unique              NaN               9         3   \n",
       "top                 NaN      2017-04-12   Private   \n",
       "freq                NaN           81824    358259   \n",
       "mean         825.132150             NaN       NaN   \n",
       "std         5646.868618             NaN       NaN   \n",
       "min            1.000000             NaN       NaN   \n",
       "25%            8.000000             NaN       NaN   \n",
       "50%           30.000000             NaN       NaN   \n",
       "75%           94.000000             NaN       NaN   \n",
       "max       205064.000000             NaN       NaN   \n",
       "\n",
       "                                                    image    image_top_1  \n",
       "count                                              465829  465829.000000  \n",
       "unique                                             465829            NaN  \n",
       "top     a8b57acb5ab304f9c331ac7a074219aed4d349d8aef386...            NaN  \n",
       "freq                                                    1            NaN  \n",
       "mean                                                  NaN    1297.959228  \n",
       "std                                                   NaN     961.065300  \n",
       "min                                                   NaN       0.000000  \n",
       "25%                                                   NaN     467.000000  \n",
       "50%                                                   NaN    1132.000000  \n",
       "75%                                                   NaN    2218.000000  \n",
       "max                                                   NaN    3066.000000  "
      ]
     },
     "execution_count": 37,
     "metadata": {},
     "output_type": "execute_result"
    }
   ],
   "source": [
    "df2.describe(include='all')"
   ]
  },
  {
   "cell_type": "markdown",
   "id": "86835222-22d3-4ae4-a35c-b7e61fdb94fa",
   "metadata": {},
   "source": [
    "##### Вывод статистических данных по столбцам\n",
    ">* item_id уникальных объявлений 508438\n",
    ">* user_id общее кол-во пользователей 306069\n",
    ">* region представлены объявления из 28 регионов\n",
    ">* city опубликованы объявления из 1644 городов\n",
    ">* parent_category_name всего объявления опубликованы в 9 разделах\n",
    ">* category_name 47 категорий объявлений\n",
    ">* param_1 1-я подкатегория 361 вариант\n",
    ">* param_2 2-я подкатегория 255 вариант\n",
    ">* param_3 3-я подкатегория 973 вариант\n",
    ">* title заголовок. 298039 уникальных заголовка\n",
    ">* description Описание. 485209 уникальных описания\n",
    ">* price Цена. 477853 объявлений с ценой. Без цены 30585\n",
    ">* activation_date Дата активации\n",
    ">* user_type тип пользователям, 3 уникальных типа\n",
    ">* image всего 465829 изображений"
   ]
  },
  {
   "cell_type": "markdown",
   "id": "95c06e7a-1671-47b2-ba01-60a3e07c8c21",
   "metadata": {},
   "source": [
    "<h3>Работа со столбцами 'дата активации'</h3>"
   ]
  },
  {
   "cell_type": "markdown",
   "id": "928c3e28-9f69-4a84-8cf2-d71e358c605d",
   "metadata": {},
   "source": [
    "* Меняем тип данных столбцов с датами"
   ]
  },
  {
   "cell_type": "code",
   "execution_count": 38,
   "id": "c2fa8ea9-778b-4061-8b70-181a08f1e6b0",
   "metadata": {},
   "outputs": [],
   "source": [
    "df1['activation_date'] = pd.to_datetime(df1['activation_date'])\n",
    "df1['date_from'] = pd.to_datetime(df1['date_from'])\n",
    "df1['date_to'] = pd.to_datetime(df1['date_to'])\n",
    "df2['activation_date'] = pd.to_datetime(df2['activation_date'])"
   ]
  },
  {
   "cell_type": "code",
   "execution_count": 40,
   "id": "dd359adc-a3f5-4f26-8ff3-8dc5a269646a",
   "metadata": {},
   "outputs": [
    {
     "name": "stdout",
     "output_type": "stream",
     "text": [
      "0   2017-04-18\n",
      "1   2017-04-16\n",
      "2   2017-04-17\n",
      "3   2017-04-17\n",
      "4   2017-04-15\n",
      "Name: activation_date, dtype: datetime64[ns]\n"
     ]
    }
   ],
   "source": [
    "print(df2['activation_date'].head())"
   ]
  },
  {
   "cell_type": "markdown",
   "id": "6d126d89-9308-47a8-baa0-6e017954c680",
   "metadata": {},
   "source": [
    "* Смотрим в какие дни были объявления"
   ]
  },
  {
   "cell_type": "code",
   "execution_count": 41,
   "id": "2ef7fb63-9c00-45fb-8b3b-62f132174e1b",
   "metadata": {},
   "outputs": [
    {
     "data": {
      "text/plain": [
       "activation_date\n",
       "2017-04-12    81824\n",
       "2017-04-13    77176\n",
       "2017-04-14    70366\n",
       "2017-04-15    58793\n",
       "2017-04-16    58909\n",
       "2017-04-17    80191\n",
       "2017-04-18    81114\n",
       "2017-04-19       64\n",
       "2017-04-20        1\n",
       "Name: count, dtype: int64"
      ]
     },
     "execution_count": 41,
     "metadata": {},
     "output_type": "execute_result"
    }
   ],
   "source": [
    "date_stats = df2['activation_date'].value_counts().sort_index(axis=0)\n",
    "date_stats"
   ]
  },
  {
   "cell_type": "code",
   "execution_count": 42,
   "id": "c9bbadf9-72ae-43a7-a12d-a5f35c29b010",
   "metadata": {},
   "outputs": [
    {
     "data": {
      "text/plain": [
       "activation_date\n",
       "2017-04-12    Wednesday\n",
       "2017-04-13     Thursday\n",
       "2017-04-14       Friday\n",
       "2017-04-15     Saturday\n",
       "2017-04-16       Sunday\n",
       "2017-04-17       Monday\n",
       "2017-04-18      Tuesday\n",
       "2017-04-19    Wednesday\n",
       "2017-04-20     Thursday\n",
       "Name: activation_date, dtype: object"
      ]
     },
     "execution_count": 42,
     "metadata": {},
     "output_type": "execute_result"
    }
   ],
   "source": [
    "date_weekday = date_stats.index.to_series().dt.day_name()\n",
    "date_weekday"
   ]
  },
  {
   "cell_type": "markdown",
   "id": "364184e5-2a5b-4171-b2c7-2774429b2906",
   "metadata": {},
   "source": [
    "> Из полученных данных, видим что у нас есть данные с 12 по 20 апреля 2017 года, т.к. данные за 19 и 20 число слишком малы, будем рассматривать даныне за 7 дней с 12 по 18 апреля"
   ]
  },
  {
   "cell_type": "markdown",
   "id": "d9852073-a627-4e69-812b-b0130f10a8ab",
   "metadata": {},
   "source": [
    "* Строим график по количеству актиаций в день"
   ]
  },
  {
   "cell_type": "code",
   "execution_count": 43,
   "id": "e2a1178d-e3c8-49c6-8e54-c538eade0309",
   "metadata": {},
   "outputs": [],
   "source": [
    "df2_filtered = df2['activation_date'].value_counts()\n",
    "df2_filtered = df2_filtered[df2_filtered > 65]"
   ]
  },
  {
   "cell_type": "code",
   "execution_count": 44,
   "id": "60cf025e-c36b-47e9-9010-1a50102d0006",
   "metadata": {},
   "outputs": [
    {
     "data": {
      "image/png": "[encoded data removed]",
      "text/plain": [
       "<Figure size 640x480 with 1 Axes>"
      ]
     },
     "metadata": {},
     "output_type": "display_data"
    }
   ],
   "source": [
    "order = df2_filtered.index\n",
    "plt.title('Топ по количеству активаций в день')\n",
    "ax = sns.countplot(y=df2['activation_date'], data=df2, order=order)\n",
    "plt.xlabel('')\n",
    "plt.ylabel('')\n",
    "\n",
    "plt.show()"
   ]
  },
  {
   "cell_type": "markdown",
   "id": "7ae29c81-10f1-4856-8d73-55d44a82fa67",
   "metadata": {},
   "source": [
    "<h3>Работа со столбцом 'region'</h3>"
   ]
  },
  {
   "cell_type": "markdown",
   "id": "f970826c-b01e-463c-a299-175dd2152609",
   "metadata": {},
   "source": [
    "* Посмотрим уникальные значения в столбце 'region'"
   ]
  },
  {
   "cell_type": "code",
   "execution_count": 45,
   "id": "c612d69b-5eab-4ef0-82ab-6fd925b105a7",
   "metadata": {
    "scrolled": true
   },
   "outputs": [
    {
     "name": "stdout",
     "output_type": "stream",
     "text": [
      "['Волгоградская область', 'Свердловская область', 'Новосибирская область', 'Саратовская область', 'Оренбургская область', 'Ростовская область', 'Калининградская область', 'Пермский край', 'Краснодарский край', 'Башкортостан', 'Самарская область', 'Иркутская область', 'Ставропольский край', 'Нижегородская область', 'Тульская область', 'Омская область', 'Алтайский край', 'Татарстан', 'Кемеровская область', 'Челябинская область', 'Ханты-Мансийский АО', 'Ярославская область', 'Тюменская область', 'Белгородская область', 'Красноярский край', 'Воронежская область', 'Владимирская область', 'Удмуртия']\n"
     ]
    }
   ],
   "source": [
    "unique_region_list = list(df2['region'].unique())\n",
    "print(unique_region_list)"
   ]
  },
  {
   "cell_type": "markdown",
   "id": "e81798cf-d2db-4358-89ad-e5389e2eed82",
   "metadata": {},
   "source": [
    "* Посмотрим топ 10 регионов по количеству объявлений"
   ]
  },
  {
   "cell_type": "code",
   "execution_count": 46,
   "id": "3ee2f19b-e68f-415f-a306-812bb7cc3389",
   "metadata": {},
   "outputs": [
    {
     "name": "stdout",
     "output_type": "stream",
     "text": [
      "                  Регион  Количество объявлений\n",
      "0     Краснодарский край                  45098\n",
      "1   Свердловская область                  33408\n",
      "2              Татарстан                  30035\n",
      "3    Челябинская область                  28839\n",
      "4     Ростовская область                  26672\n",
      "5      Самарская область                  26507\n",
      "6           Башкортостан                  24921\n",
      "7  Нижегородская область                  24886\n",
      "8          Пермский край                  22560\n",
      "9  Новосибирская область                  21900\n"
     ]
    }
   ],
   "source": [
    "top_region = df2['region'].value_counts().head(10).reset_index()\n",
    "top_region.columns = ['Регион', 'Количество объявлений']\n",
    "print(top_region)"
   ]
  },
  {
   "cell_type": "markdown",
   "id": "9b5744c3-2cce-48d3-88cb-b80b7991b484",
   "metadata": {},
   "source": [
    "* Статистика объявлений по городам"
   ]
  },
  {
   "cell_type": "code",
   "execution_count": 94,
   "id": "bed6a1e3-dba1-4053-8f40-e17a66ba9169",
   "metadata": {},
   "outputs": [
    {
     "name": "stdout",
     "output_type": "stream",
     "text": [
      "             Город  Количество объявлений\n",
      "0     Екатеринбург                  22391\n",
      "1        Краснодар                  20888\n",
      "2      Новосибирск                  19885\n",
      "3        Челябинск                  18064\n",
      "4  Нижний Новгород                  17796\n",
      "5           Казань                  17391\n",
      "6            Пермь                  16943\n",
      "7   Ростов-на-Дону                  15696\n",
      "8           Самара                  15523\n",
      "9              Уфа                  14755\n"
     ]
    }
   ],
   "source": [
    "top_region = df2['city'].value_counts().head(10).reset_index()\n",
    "top_region.columns = ['Город', 'Количество объявлений']\n",
    "print(top_region)"
   ]
  },
  {
   "cell_type": "markdown",
   "id": "de250fe7-f5f4-424f-98f8-4ea880abed89",
   "metadata": {},
   "source": [
    "> Из анализа объявлений мы наблюдаем что основная большая часть объявлений приходится на Приволжский федеральный округ"
   ]
  },
  {
   "cell_type": "markdown",
   "id": "ef7c0d6d-f25d-4d19-86f3-bbb0a0db1c74",
   "metadata": {},
   "source": [
    "<h3>Посмотрим статиску категориям </h3>"
   ]
  },
  {
   "cell_type": "markdown",
   "id": "e06acd41-d2db-4572-8118-c1a578f0b047",
   "metadata": {},
   "source": [
    "* Посмотрим топ объявлений по категориям"
   ]
  },
  {
   "cell_type": "code",
   "execution_count": 122,
   "id": "eb446409-4df6-4d30-95c2-34c871cd7e76",
   "metadata": {},
   "outputs": [
    {
     "data": {
      "text/plain": [
       "<Axes: title={'center': 'Топ по категориям'}, xlabel='count', ylabel='parent_category_name'>"
      ]
     },
     "execution_count": 122,
     "metadata": {},
     "output_type": "execute_result"
    },
    {
     "data": {
      "image/png": "[encoded data removed]",
      "text/plain": [
       "<Figure size 640x480 with 1 Axes>"
      ]
     },
     "metadata": {},
     "output_type": "display_data"
    }
   ],
   "source": [
    "plt.title(\"Топ по категориям\")\n",
    "sns.countplot(y = df2['parent_category_name'], order = parent_category_name.index)"
   ]
  },
  {
   "cell_type": "markdown",
   "id": "b99587e4-54f7-43bc-b498-523c1eebadf1",
   "metadata": {},
   "source": [
    "* посмотри количетсов объявлений предметно в цифрах"
   ]
  },
  {
   "cell_type": "code",
   "execution_count": 123,
   "id": "23108ffe-ecaa-49b2-ac06-ad61c990f645",
   "metadata": {},
   "outputs": [
    {
     "data": {
      "text/plain": [
       "parent_category_name\n",
       "Личные вещи            216577\n",
       "Для дома и дачи         64910\n",
       "Бытовая электроника     58282\n",
       "Недвижимость            57387\n",
       "Хобби и отдых           31271\n",
       "Транспорт               29953\n",
       "Услуги                  23619\n",
       "Животные                19976\n",
       "Для бизнеса              6463\n",
       "Name: count, dtype: int64"
      ]
     },
     "execution_count": 123,
     "metadata": {},
     "output_type": "execute_result"
    }
   ],
   "source": [
    "# по категориям\n",
    "parent_category_name = df2['parent_category_name'].value_counts().head(10)\n",
    "parent_category_name"
   ]
  },
  {
   "cell_type": "markdown",
   "id": "81ccca7a-5b3a-4932-a833-212565e21d2d",
   "metadata": {},
   "source": [
    "> Из анализа объявлений, мы видим что люди чаще продают свои личные вещи на платформе"
   ]
  },
  {
   "cell_type": "markdown",
   "id": "bf8ad68e-f6a1-408b-b8d5-adfc01f62c62",
   "metadata": {},
   "source": [
    "<h2>Анализ пропусков, выбросов и несоответствий в данных</h2>"
   ]
  },
  {
   "cell_type": "markdown",
   "id": "eb371b60-2bde-43ca-a248-0eed324503d0",
   "metadata": {},
   "source": [
    "<h3>Анализ пропусков</h3>"
   ]
  },
  {
   "cell_type": "markdown",
   "id": "e15a87d5-86f4-4ac4-bf31-bb4a8d6c3d07",
   "metadata": {},
   "source": [
    "* Осмотр на наличение пропусков"
   ]
  },
  {
   "cell_type": "code",
   "execution_count": 98,
   "id": "103fe75a-cf15-4904-8557-7856021c2e51",
   "metadata": {
    "scrolled": true
   },
   "outputs": [
    {
     "name": "stdout",
     "output_type": "stream",
     "text": [
      "Пропуски в df1:\n",
      " activation_date    5043\n",
      "dtype: int64\n",
      "Пропуски в df2:\n",
      " param_1         22910\n",
      "param_2        233229\n",
      "param_3        306331\n",
      "price           30585\n",
      "image           42609\n",
      "image_top_1     42609\n",
      "dtype: int64\n"
     ]
    }
   ],
   "source": [
    "missing_values_df1 = df1.isnull().sum()\n",
    "missing_values_df2 = df2.isnull().sum()\n",
    "\n",
    "print(\"Пропуски в df1:\\n\", missing_values_df1[missing_values_df1 > 0])\n",
    "print(\"Пропуски в df2:\\n\", missing_values_df2[missing_values_df2 > 0])"
   ]
  },
  {
   "cell_type": "markdown",
   "id": "e9ebd1b2-96c1-4fde-aae3-4e416599ce06",
   "metadata": {},
   "source": [
    "* Осмотр на наличение пропусков в процентном соотношение"
   ]
  },
  {
   "cell_type": "code",
   "execution_count": 56,
   "id": "a469f876-1d36-4450-b0dc-aaa441e7c112",
   "metadata": {},
   "outputs": [
    {
     "name": "stdout",
     "output_type": "stream",
     "text": [
      "Процент пропусков в df2:\n",
      " param_1        0.045060\n",
      "param_2        0.458717\n",
      "param_3        0.602494\n",
      "price          0.060155\n",
      "image          0.083804\n",
      "image_top_1    0.083804\n",
      "dtype: float64\n"
     ]
    }
   ],
   "source": [
    "percent_missing_values_df2 = df2.isnull().mean()\n",
    "print(\"Процент пропусков в df2:\\n\", percent_missing_values_df2[percent_missing_values_df2 > 0])"
   ]
  },
  {
   "cell_type": "markdown",
   "id": "182d5f56-41bb-4012-b7e7-7d03f61a5c96",
   "metadata": {},
   "source": [
    "* визуализация пропусков на графике\n"
   ]
  },
  {
   "cell_type": "code",
   "execution_count": 88,
   "id": "2c72b708-e217-4d10-954e-052938baf76d",
   "metadata": {},
   "outputs": [
    {
     "data": {
      "text/plain": [
       "<Axes: >"
      ]
     },
     "execution_count": 88,
     "metadata": {},
     "output_type": "execute_result"
    },
    {
     "data": {
      "image/png": "[encoded data removed]",
      "text/plain": [
       "<Figure size 1000x600 with 2 Axes>"
      ]
     },
     "metadata": {},
     "output_type": "display_data"
    }
   ],
   "source": [
    "msno.matrix(df2, figsize=(10, 6), color=(0.3,0.3,1), fontsize=8, sparkline=True)"
   ]
  },
  {
   "cell_type": "markdown",
   "id": "8d31254c-b4b2-4640-a25d-75c53c25b310",
   "metadata": {},
   "source": [
    "> из анализа пропуском видим что большую часть приходится на колонки param2, param3. Данные колонки обозначают подкатегории товаров - высокая доля пропусков в этих колонках может указывать на проблемы при выборе и формирование объявления потребителей, возможно они не смогли правильно классифицировать товар или не сочли нужным этого делать, т.к. parent_category_name описывает главную категорию объявления"
   ]
  },
  {
   "cell_type": "code",
   "execution_count": null,
   "id": "828981b6-b0c1-4bd0-9415-31e6a8919623",
   "metadata": {},
   "outputs": [],
   "source": []
  },
  {
   "cell_type": "markdown",
   "id": "c1834605-1915-415c-9223-b7718add0a9d",
   "metadata": {},
   "source": [
    "<h3>Анализ дубликатов</h3>"
   ]
  },
  {
   "cell_type": "markdown",
   "id": "a6a1466d-91a8-4f88-9ae6-3524a2aa2628",
   "metadata": {},
   "source": [
    "> Осмотр на наличие дубликатов"
   ]
  },
  {
   "cell_type": "code",
   "execution_count": 99,
   "id": "d55ab000-0ed6-453a-b660-c394da78f7a7",
   "metadata": {},
   "outputs": [
    {
     "name": "stdout",
     "output_type": "stream",
     "text": [
      "Количество дубликатов в столбце item_id: 0\n",
      "Количество дубликатов в столбце user_id: 202369\n",
      "Количество дубликатов в столбце region: 508410\n",
      "Количество дубликатов в столбце city: 506794\n",
      "Количество дубликатов в столбце parent_category_name: 508429\n",
      "Количество дубликатов в столбце category_name: 508391\n",
      "Количество дубликатов в столбце param_1: 508076\n",
      "Количество дубликатов в столбце param_2: 508182\n",
      "Количество дубликатов в столбце param_3: 507464\n",
      "Количество дубликатов в столбце title: 210399\n",
      "Количество дубликатов в столбце description: 23229\n",
      "Количество дубликатов в столбце price: 499064\n",
      "Количество дубликатов в столбце item_seq_number: 492548\n",
      "Количество дубликатов в столбце activation_date: 508429\n",
      "Количество дубликатов в столбце user_type: 508435\n",
      "Количество дубликатов в столбце image: 42608\n",
      "Количество дубликатов в столбце image_top_1: 505390\n"
     ]
    }
   ],
   "source": [
    "for col in df2.columns:\n",
    "    print(f\"Количество дубликатов в столбце {col}: {df2[col].duplicated().sum()}\")"
   ]
  },
  {
   "cell_type": "markdown",
   "id": "e0b053e1-d50a-48fb-8805-ec48f80834b2",
   "metadata": {},
   "source": [
    "> Наблюдаем очень большое количесто дубликатов, можно проверить действительно ли дубликаты идентичны"
   ]
  },
  {
   "cell_type": "code",
   "execution_count": 141,
   "id": "14cdd551-9c7a-407d-9f6f-1c21494afd29",
   "metadata": {},
   "outputs": [
    {
     "data": {
      "text/html": [
       "<div>\n",
       "<style scoped>\n",
       "    .dataframe tbody tr th:only-of-type {\n",
       "        vertical-align: middle;\n",
       "    }\n",
       "\n",
       "    .dataframe tbody tr th {\n",
       "        vertical-align: top;\n",
       "    }\n",
       "\n",
       "    .dataframe thead th {\n",
       "        text-align: right;\n",
       "    }\n",
       "</style>\n",
       "<table border=\"1\" class=\"dataframe\">\n",
       "  <thead>\n",
       "    <tr style=\"text-align: right;\">\n",
       "      <th></th>\n",
       "      <th>item_id</th>\n",
       "      <th>user_id</th>\n",
       "      <th>region</th>\n",
       "      <th>city</th>\n",
       "      <th>parent_category_name</th>\n",
       "      <th>category_name</th>\n",
       "      <th>param_1</th>\n",
       "      <th>param_2</th>\n",
       "      <th>param_3</th>\n",
       "      <th>title</th>\n",
       "      <th>description</th>\n",
       "      <th>price</th>\n",
       "      <th>item_seq_number</th>\n",
       "      <th>activation_date</th>\n",
       "      <th>user_type</th>\n",
       "      <th>image</th>\n",
       "      <th>image_top_1</th>\n",
       "    </tr>\n",
       "  </thead>\n",
       "  <tbody>\n",
       "  </tbody>\n",
       "</table>\n",
       "</div>"
      ],
      "text/plain": [
       "Empty DataFrame\n",
       "Columns: [item_id, user_id, region, city, parent_category_name, category_name, param_1, param_2, param_3, title, description, price, item_seq_number, activation_date, user_type, image, image_top_1]\n",
       "Index: []"
      ]
     },
     "execution_count": 141,
     "metadata": {},
     "output_type": "execute_result"
    }
   ],
   "source": [
    "df2[df2.duplicated(keep=False)] "
   ]
  },
  {
   "cell_type": "markdown",
   "id": "08331f2a-b87e-40a7-ae6a-6acd398d132f",
   "metadata": {},
   "source": [
    " > метод не показывает никаких дубликатов, это означает, что в нашем DataFrame нет полных дубликатов, все строки уникальны."
   ]
  },
  {
   "cell_type": "markdown",
   "id": "2cbc667a-be83-47ee-a59a-2959366d3172",
   "metadata": {},
   "source": [
    "<h3>Анализ выбросов</h3>"
   ]
  },
  {
   "cell_type": "markdown",
   "id": "666cefb4-f2b1-482e-a641-b49517b23605",
   "metadata": {},
   "source": [
    "* посмотрим на выбросы, в данном DataFrame мы можем посмотреть в основном на столбце price "
   ]
  },
  {
   "cell_type": "code",
   "execution_count": 144,
   "id": "b0d16072-0ae9-42c7-9585-681987ff2b3d",
   "metadata": {},
   "outputs": [
    {
     "data": {
      "image/png": "[encoded data removed]",
      "text/plain": [
       "<Figure size 500x500 with 1 Axes>"
      ]
     },
     "metadata": {},
     "output_type": "display_data"
    }
   ],
   "source": [
    "plt.figure(figsize=(5, 5))\n",
    "sns.boxplot(data=df2['price']) \n",
    "plt.title('Выбросы в столбце price')\n",
    "plt.show()"
   ]
  },
  {
   "cell_type": "markdown",
   "id": "b348d075-b086-47dd-9f4b-4dbb1bce5a8e",
   "metadata": {},
   "source": [
    "> из приведённого графика видими что в основном стоимость товаров в объявлении не привышает 500 долларов"
   ]
  },
  {
   "cell_type": "markdown",
   "id": "194933b5-76be-4a90-95cf-418f34e37873",
   "metadata": {},
   "source": [
    "<h3>Анализ несоответствий в данных</h3>"
   ]
  },
  {
   "cell_type": "code",
   "execution_count": 132,
   "id": "4194de8d-95ef-4540-93dc-b745fdcd1188",
   "metadata": {},
   "outputs": [
    {
     "name": "stdout",
     "output_type": "stream",
     "text": [
      "item_id                    object\n",
      "activation_date    datetime64[ns]\n",
      "date_from          datetime64[ns]\n",
      "date_to            datetime64[ns]\n",
      "dtype: object\n"
     ]
    }
   ],
   "source": [
    "print(df1.dtypes)"
   ]
  },
  {
   "cell_type": "code",
   "execution_count": 133,
   "id": "910113fc-1304-43a0-8369-82e9cc7b9b96",
   "metadata": {},
   "outputs": [
    {
     "name": "stdout",
     "output_type": "stream",
     "text": [
      "item_id                         object\n",
      "user_id                         object\n",
      "region                          object\n",
      "city                            object\n",
      "parent_category_name            object\n",
      "category_name                   object\n",
      "param_1                         object\n",
      "param_2                         object\n",
      "param_3                         object\n",
      "title                           object\n",
      "description                     object\n",
      "price                          float64\n",
      "item_seq_number                  int64\n",
      "activation_date         datetime64[ns]\n",
      "user_type                       object\n",
      "image                           object\n",
      "image_top_1                    float64\n",
      "dtype: object\n"
     ]
    }
   ],
   "source": [
    "print(df2.dtypes)"
   ]
  },
  {
   "cell_type": "markdown",
   "id": "74b57702-2cfc-4a3f-a627-381c5c84bdda",
   "metadata": {},
   "source": [
    "> Несоответствий в данных не обнаруженно"
   ]
  },
  {
   "cell_type": "code",
   "execution_count": null,
   "id": "c752d32d-09ad-45af-a1d1-53142d127a33",
   "metadata": {},
   "outputs": [],
   "source": []
  }
 ],
 "metadata": {
  "kernelspec": {
   "display_name": "Python 3 (ipykernel)",
   "language": "python",
   "name": "python3"
  },
  "language_info": {
   "codemirror_mode": {
    "name": "ipython",
    "version": 3
   },
   "file_extension": ".py",
   "mimetype": "text/x-python",
   "name": "python",
   "nbconvert_exporter": "python",
   "pygments_lexer": "ipython3",
   "version": "3.12.3"
  }
 },
 "nbformat": 4,
 "nbformat_minor": 5
}
